{
  "nbformat": 4,
  "nbformat_minor": 0,
  "metadata": {
    "colab": {
      "name": "Train_Test.ipynb",
      "provenance": [],
      "collapsed_sections": [],
      "authorship_tag": "ABX9TyMA2NMqRUG7n5us6k00I/TD",
      "include_colab_link": true
    },
    "kernelspec": {
      "name": "python3",
      "display_name": "Python 3"
    }
  },
  "cells": [
    {
      "cell_type": "markdown",
      "metadata": {
        "id": "view-in-github",
        "colab_type": "text"
      },
      "source": [
        "<a href=\"https://colab.research.google.com/github/sanaalshboul/Gender-Voice-Detection/blob/master/Train_Test.ipynb\" target=\"_parent\"><img src=\"https://colab.research.google.com/assets/colab-badge.svg\" alt=\"Open In Colab\"/></a>"
      ]
    },
    {
      "cell_type": "code",
      "metadata": {
        "id": "niAWs6_TArc-",
        "colab_type": "code",
        "colab": {
          "base_uri": "https://localhost:8080/",
          "height": 125
        },
        "outputId": "28ffa7c7-2276-4846-c51e-1106cd26ac19"
      },
      "source": [
        "#import Google drive\n",
        "from google.colab import drive\n",
        "drive.mount('/content/drive/')"
      ],
      "execution_count": 1,
      "outputs": [
        {
          "output_type": "stream",
          "text": [
            "Go to this URL in a browser: https://accounts.google.com/o/oauth2/auth?client_id=947318989803-6bn6qk8qdgf4n4g3pfee6491hc0brc4i.apps.googleusercontent.com&redirect_uri=urn%3aietf%3awg%3aoauth%3a2.0%3aoob&scope=email%20https%3a%2f%2fwww.googleapis.com%2fauth%2fdocs.test%20https%3a%2f%2fwww.googleapis.com%2fauth%2fdrive%20https%3a%2f%2fwww.googleapis.com%2fauth%2fdrive.photos.readonly%20https%3a%2f%2fwww.googleapis.com%2fauth%2fpeopleapi.readonly&response_type=code\n",
            "\n",
            "Enter your authorization code:\n",
            "··········\n",
            "Mounted at /content/drive/\n"
          ],
          "name": "stdout"
        }
      ]
    },
    {
      "cell_type": "code",
      "metadata": {
        "id": "EUD9jVGyA9_M",
        "colab_type": "code",
        "colab": {
          "base_uri": "https://localhost:8080/",
          "height": 87
        },
        "outputId": "e5b2cbef-9c8a-4689-e9ee-30ec8198e5a0"
      },
      "source": [
        "#change the current working directory to the dataset directory\n",
        "#for dataset downloading: https://www.kaggle.com/liftofff9/voice-gender\n",
        "import os\n",
        "os.chdir('/content/drive/My Drive/pygender')\n",
        "!ls"
      ],
      "execution_count": 7,
      "outputs": [
        {
          "output_type": "stream",
          "text": [
            "data\t\t\t       logs\t\t\ttrain_data\n",
            "Data_preperation.ipynb\t       mfcc_features_test.csv\tTrain_Test.ipynb\n",
            "ELA_Voice_visualization.ipynb  mfcc_features_train.csv\n",
            "images\t\t\t       test_data\n"
          ],
          "name": "stdout"
        }
      ]
    },
    {
      "cell_type": "code",
      "metadata": {
        "id": "1Rg1WFwsBFcg",
        "colab_type": "code",
        "colab": {}
      },
      "source": [
        "#import the required libraries\n",
        "import pickle\n",
        "import numpy as np\n",
        "\n",
        "\n",
        "from sklearn.ensemble import GradientBoostingClassifier\n",
        "from sklearn.linear_model import LogisticRegression\n",
        "from sklearn.model_selection import GridSearchCV\n",
        "from sklearn.tree import DecisionTreeClassifier\n",
        "from xgboost import XGBClassifier\n",
        "\n",
        "from sklearn.metrics import accuracy_score\n",
        "from sklearn.metrics import classification_report, confusion_matrix\n",
        "\n",
        "from tensorflow.keras.models import Sequential\n",
        "from tensorflow.keras.layers import Dense, Dropout,  Conv1D, MaxPooling1D, Flatten,InputLayer\n",
        "from keras.optimizers import SGD, RMSprop, Adam\n",
        "from tensorflow.keras.callbacks import ModelCheckpoint, TensorBoard, EarlyStopping\n",
        "from keras.callbacks import LearningRateScheduler\n",
        "from keras.callbacks import History\n",
        "from keras.wrappers.scikit_learn import KerasClassifier\n"
      ],
      "execution_count": 8,
      "outputs": []
    },
    {
      "cell_type": "code",
      "metadata": {
        "id": "BGgJj0BwD_7h",
        "colab_type": "code",
        "colab": {}
      },
      "source": [
        "#metho to load training or testing files\n",
        "def load_data(train_or_test):\n",
        "  if train_or_test==\"train\":\n",
        "    npFeatureFile=\"data/all_mfcc_train.npy\"\n",
        "    npLabelFile=\"data/all_label_train.npy\"\n",
        "  elif train_or_test==\"test\":\n",
        "    npFeatureFile=\"data/all_mfcc_test.npy\"\n",
        "    npLabelFile=\"data/all_label_test.npy\"\n",
        "\n",
        "  X_train=np.load(npFeatureFile)\n",
        "  Y_train=np.load(npLabelFile)\n",
        "  \n",
        "  return X_train, Y_train"
      ],
      "execution_count": 9,
      "outputs": []
    },
    {
      "cell_type": "code",
      "metadata": {
        "id": "-3N4_g3dPr-E",
        "colab_type": "code",
        "colab": {}
      },
      "source": [
        "#loading the testing and training sets\n",
        "X_train,Y_train=load_data(train_or_test=\"train\")\n",
        "X_test,Y_test=load_data(train_or_test=\"test\")\n",
        "\n",
        "#makes the random numbers predictable\n",
        "np.random.seed(5)"
      ],
      "execution_count": 10,
      "outputs": []
    },
    {
      "cell_type": "code",
      "metadata": {
        "id": "ISsMprgzPSs1",
        "colab_type": "code",
        "colab": {
          "base_uri": "https://localhost:8080/",
          "height": 52
        },
        "outputId": "71b86880-b47d-4a68-af08-fa13dee0294b"
      },
      "source": [
        "#hyperparameters finetuning for XGBClassifier using GridSearchCV algorithm\n",
        "\n",
        "param_grid={'learning_rate':[.0001,.1,.2,.5], 'n_estimators':[20,50,100,150,300], 'warm_start':[True, False]}\n",
        "xgb=XGBClassifier()\n",
        "xgb_cv=GridSearchCV(xgb, param_grid, cv=5)\n",
        "xgb_cv.fit(X_train, Y_train.ravel())\n",
        "\n",
        "#model_name=\"mfcc_model.sav\"\n",
        "#pickle.dump(xgb_cv, open(model_name, 'wb'))\n",
        "\n",
        "print(xgb_cv.best_params_)\n",
        "print(xgb_cv.best_score_)"
      ],
      "execution_count": null,
      "outputs": [
        {
          "output_type": "stream",
          "text": [
            "{'learning_rate': 0.0001, 'n_estimators': 20, 'warm_start': True}\n",
            "0.5\n"
          ],
          "name": "stdout"
        }
      ]
    },
    {
      "cell_type": "code",
      "metadata": {
        "id": "KTS1IbFMPhFQ",
        "colab_type": "code",
        "colab": {
          "base_uri": "https://localhost:8080/",
          "height": 228
        },
        "outputId": "eb5249d7-65dd-4b82-b0aa-d9292fd1a6c8"
      },
      "source": [
        "#training and testing the data set using the best prameters of the XGBClassifier\n",
        "\n",
        "# Initialize the classifier\n",
        "xgb=XGBClassifier(learning_rate= 0.0001, n_estimators= 20, warm_start= True)\n",
        "\n",
        "# Train the classifier\n",
        "xgb.fit(X_train, Y_train.ravel())\n",
        "\n",
        "# Make predictions\n",
        "Y_pred=xgb.predict(X_test)\n",
        "\n",
        "# Evaluate accuracy\n",
        "print(accuracy_score(Y_test, Y_pred))\n",
        "print(classification_report(Y_test,Y_pred))\n",
        "print(confusion_matrix(Y_test,Y_pred))"
      ],
      "execution_count": null,
      "outputs": [
        {
          "output_type": "stream",
          "text": [
            "0.6843033509700176\n",
            "              precision    recall  f1-score   support\n",
            "\n",
            "         0.0       0.73      0.60      0.66       576\n",
            "         1.0       0.65      0.77      0.71       558\n",
            "\n",
            "    accuracy                           0.68      1134\n",
            "   macro avg       0.69      0.69      0.68      1134\n",
            "weighted avg       0.69      0.68      0.68      1134\n",
            "\n",
            "[[345 231]\n",
            " [127 431]]\n"
          ],
          "name": "stdout"
        }
      ]
    },
    {
      "cell_type": "code",
      "metadata": {
        "id": "pT6gntb3QX8Q",
        "colab_type": "code",
        "colab": {
          "base_uri": "https://localhost:8080/",
          "height": 228
        },
        "outputId": "18009461-712a-43c9-aae7-abdf199b451d"
      },
      "source": [
        "#training and testing the data set using the GradientBoostingClassifier\n",
        "\n",
        "gb = GradientBoostingClassifier(n_estimators= 600, max_depth=1,max_features=1, min_samples_split=2,\n",
        "              learning_rate= .001)\n",
        "\n",
        "gb.fit(X_train, Y_train.ravel())\n",
        "\n",
        "Y_pred=gb.predict(X_test)\n",
        "\n",
        "print(accuracy_score(Y_test, Y_pred))\n",
        "print(classification_report(Y_test,Y_pred))\n",
        "print(confusion_matrix(Y_test,Y_pred))"
      ],
      "execution_count": null,
      "outputs": [
        {
          "output_type": "stream",
          "text": [
            "0.6331569664902998\n",
            "              precision    recall  f1-score   support\n",
            "\n",
            "         0.0       0.71      0.48      0.57       576\n",
            "         1.0       0.60      0.79      0.68       558\n",
            "\n",
            "    accuracy                           0.63      1134\n",
            "   macro avg       0.65      0.64      0.62      1134\n",
            "weighted avg       0.65      0.63      0.62      1134\n",
            "\n",
            "[[275 301]\n",
            " [115 443]]\n"
          ],
          "name": "stdout"
        }
      ]
    },
    {
      "cell_type": "code",
      "metadata": {
        "id": "vGM2qLYDf2Ae",
        "colab_type": "code",
        "colab": {
          "base_uri": "https://localhost:8080/",
          "height": 52
        },
        "outputId": "3857bd7e-a0f8-4f9d-cf11-503b718dbd73"
      },
      "source": [
        "#hyperparameters finetuning for DecisionTreeClassifier using GridSearchCV algorithm\n",
        "\n",
        "param_grid={\"criterion\":[\"gini\", \"entropy\"],  \"max_depth\": np.arange(1,5),\"max_features\":[\"auto\", \"sqrt\", \"log2\"]}\n",
        "dtr=DecisionTreeClassifier()\n",
        "\n",
        "xgb_cv=GridSearchCV(dtr, param_grid, cv=5)\n",
        "xgb_cv.fit(X_train, Y_train.ravel())\n",
        "\n",
        "#model_name=\"mfcc_model.sav\"\n",
        "#pickle.dump(xgb_cv, open(model_name, 'wb'))\n",
        "\n",
        "print(xgb_cv.best_params_)\n",
        "print(xgb_cv.best_score_)"
      ],
      "execution_count": null,
      "outputs": [
        {
          "output_type": "stream",
          "text": [
            "{'criterion': 'gini', 'max_depth': 3, 'max_features': 'auto'}\n",
            "0.9\n"
          ],
          "name": "stdout"
        }
      ]
    },
    {
      "cell_type": "code",
      "metadata": {
        "id": "ZrjoUhF1c2RQ",
        "colab_type": "code",
        "colab": {
          "base_uri": "https://localhost:8080/",
          "height": 193
        },
        "outputId": "70abb306-9727-4212-a3c9-3a261747a28a"
      },
      "source": [
        "#training and testing the data set using the best prameters of the DecisionTreeClassifier\n",
        "\n",
        "dtr=DecisionTreeClassifier( max_depth=3, max_features='log2',criterion=\"gini\",random_state=50).fit(X_train,Y_train)\n",
        "\n",
        "Y_pred=dtr.predict(X_test)\n",
        "\n",
        "print(accuracy_score(Y_test, Y_pred))\n",
        "print(classification_report(Y_test,Y_pred))\n"
      ],
      "execution_count": 11,
      "outputs": [
        {
          "output_type": "stream",
          "text": [
            "0.5731922398589065\n",
            "              precision    recall  f1-score   support\n",
            "\n",
            "         0.0       0.57      0.65      0.61       576\n",
            "         1.0       0.58      0.49      0.53       558\n",
            "\n",
            "    accuracy                           0.57      1134\n",
            "   macro avg       0.57      0.57      0.57      1134\n",
            "weighted avg       0.57      0.57      0.57      1134\n",
            "\n"
          ],
          "name": "stdout"
        }
      ]
    },
    {
      "cell_type": "code",
      "metadata": {
        "id": "XhBk4jIGtr4c",
        "colab_type": "code",
        "colab": {
          "base_uri": "https://localhost:8080/",
          "height": 1000
        },
        "outputId": "c637ab89-d787-4b1d-8081-2eaace1640e9"
      },
      "source": [
        "#hyperparameters tuning for a created NN model\n",
        "\n",
        "epochs=35\n",
        "learning_rate = 0.001\n",
        "decay_rate = learning_rate / epochs\n",
        "momentum = 0.8\n",
        "\n",
        "#initialize optimizer\n",
        "sgd = Adam(lr=learning_rate)\n",
        "\n",
        "def create_model(init_mode='uniform'):\n",
        "    vector_length=25\n",
        "\n",
        "    model = Sequential()\n",
        "    model.add(Dense(256, kernel_initializer=init_mode,input_shape=(vector_length,)))\n",
        "    model.add(Dense(256,kernel_initializer=init_mode, activation=\"relu\"))\n",
        "    model.add(Dropout(0.3))\n",
        "    model.add(Dense(128, kernel_initializer=init_mode,activation=\"relu\"))\n",
        "    model.add(Dropout(0.3))\n",
        "    model.add(Dense(128,kernel_initializer=init_mode, activation=\"relu\"))\n",
        "    model.add(Dropout(0.3))\n",
        "    model.add(Dense(64, kernel_initializer=init_mode,activation=\"relu\"))\n",
        "    model.add(Dropout(0.3))\n",
        "    # one output neuron with sigmoid activation function, 1 means female, 0 means male\n",
        "    model.add(Dense(1, kernel_initializer=init_mode,activation=\"sigmoid\"))\n",
        "\n",
        "    # using binary crossentropy as it's male/female classification (binary)\n",
        "    model.compile(loss=\"binary_crossentropy\", metrics=[\"accuracy\"], optimizer=sgd)\n",
        "   \n",
        "    return model\n",
        "\n",
        "\n",
        "model_CV = KerasClassifier(build_fn=create_model, verbose=1)\n",
        "\n",
        "# define the grid search parameters\n",
        "init_mode = ['huniform' ,'lecun_uniform']\n",
        "batches = [10,5]\n",
        "epochs = [10,30,40,60,75,80]\n",
        "\n",
        "param_grid = dict(epochs=epochs, batch_size=batches,init_mode=init_mode)\n",
        "\n",
        "grid = GridSearchCV(estimator=model_CV, param_grid=param_grid, n_jobs=-1, cv=3)\n",
        "\n",
        "grid_result = grid.fit(X_train, Y_train)\n",
        "\n",
        "#print the best hyperparameters' values of the model\n",
        "print(f'Best Accuracy for {grid_result.best_score_:.4} using {grid_result.best_params_}')\n"
      ],
      "execution_count": null,
      "outputs": [
        {
          "output_type": "stream",
          "text": [
            "/usr/local/lib/python3.6/dist-packages/joblib/externals/loky/process_executor.py:691: UserWarning: A worker stopped while some jobs were given to the executor. This can be caused by a too short worker timeout or by a memory leak.\n",
            "  \"timeout or by a memory leak.\", UserWarning\n"
          ],
          "name": "stderr"
        },
        {
          "output_type": "stream",
          "text": [
            "Epoch 1/75\n",
            "1/1 [==============================] - 0s 2ms/step - loss: 0.7857 - accuracy: 0.4000\n",
            "Epoch 2/75\n",
            "1/1 [==============================] - 0s 1ms/step - loss: 0.8143 - accuracy: 0.3000\n",
            "Epoch 3/75\n",
            "1/1 [==============================] - 0s 998us/step - loss: 0.6511 - accuracy: 0.7000\n",
            "Epoch 4/75\n",
            "1/1 [==============================] - 0s 2ms/step - loss: 0.5713 - accuracy: 0.7000\n",
            "Epoch 5/75\n",
            "1/1 [==============================] - 0s 1ms/step - loss: 0.6763 - accuracy: 0.6000\n",
            "Epoch 6/75\n",
            "1/1 [==============================] - 0s 2ms/step - loss: 0.8869 - accuracy: 0.3000\n",
            "Epoch 7/75\n",
            "1/1 [==============================] - 0s 1ms/step - loss: 0.7681 - accuracy: 0.4000\n",
            "Epoch 8/75\n",
            "1/1 [==============================] - 0s 2ms/step - loss: 0.7003 - accuracy: 0.4000\n",
            "Epoch 9/75\n",
            "1/1 [==============================] - 0s 972us/step - loss: 0.6360 - accuracy: 0.7000\n",
            "Epoch 10/75\n",
            "1/1 [==============================] - 0s 2ms/step - loss: 0.7920 - accuracy: 0.3000\n",
            "Epoch 11/75\n",
            "1/1 [==============================] - 0s 2ms/step - loss: 0.7628 - accuracy: 0.5000\n",
            "Epoch 12/75\n",
            "1/1 [==============================] - 0s 2ms/step - loss: 0.7600 - accuracy: 0.5000\n",
            "Epoch 13/75\n",
            "1/1 [==============================] - 0s 906us/step - loss: 0.6680 - accuracy: 0.6000\n",
            "Epoch 14/75\n",
            "1/1 [==============================] - 0s 2ms/step - loss: 0.6579 - accuracy: 0.7000\n",
            "Epoch 15/75\n",
            "1/1 [==============================] - 0s 1ms/step - loss: 0.8760 - accuracy: 0.3000\n",
            "Epoch 16/75\n",
            "1/1 [==============================] - 0s 2ms/step - loss: 0.6263 - accuracy: 0.5000\n",
            "Epoch 17/75\n",
            "1/1 [==============================] - 0s 1ms/step - loss: 0.8228 - accuracy: 0.6000\n",
            "Epoch 18/75\n",
            "1/1 [==============================] - 0s 1ms/step - loss: 0.8313 - accuracy: 0.3000\n",
            "Epoch 19/75\n",
            "1/1 [==============================] - 0s 1ms/step - loss: 0.7025 - accuracy: 0.5000\n",
            "Epoch 20/75\n",
            "1/1 [==============================] - 0s 1ms/step - loss: 0.8421 - accuracy: 0.5000\n",
            "Epoch 21/75\n",
            "1/1 [==============================] - 0s 2ms/step - loss: 0.6380 - accuracy: 0.7000\n",
            "Epoch 22/75\n",
            "1/1 [==============================] - 0s 2ms/step - loss: 0.7416 - accuracy: 0.5000\n",
            "Epoch 23/75\n",
            "1/1 [==============================] - 0s 2ms/step - loss: 0.6638 - accuracy: 0.6000\n",
            "Epoch 24/75\n",
            "1/1 [==============================] - 0s 3ms/step - loss: 0.6362 - accuracy: 0.7000\n",
            "Epoch 25/75\n",
            "1/1 [==============================] - 0s 2ms/step - loss: 0.6819 - accuracy: 0.4000\n",
            "Epoch 26/75\n",
            "1/1 [==============================] - 0s 3ms/step - loss: 0.7302 - accuracy: 0.5000\n",
            "Epoch 27/75\n",
            "1/1 [==============================] - 0s 2ms/step - loss: 0.6461 - accuracy: 0.6000\n",
            "Epoch 28/75\n",
            "1/1 [==============================] - 0s 3ms/step - loss: 0.6721 - accuracy: 0.6000\n",
            "Epoch 29/75\n",
            "1/1 [==============================] - 0s 3ms/step - loss: 0.7276 - accuracy: 0.4000\n",
            "Epoch 30/75\n",
            "1/1 [==============================] - 0s 2ms/step - loss: 0.9687 - accuracy: 0.1000\n",
            "Epoch 31/75\n",
            "1/1 [==============================] - 0s 2ms/step - loss: 0.7478 - accuracy: 0.4000\n",
            "Epoch 32/75\n",
            "1/1 [==============================] - 0s 2ms/step - loss: 0.7327 - accuracy: 0.4000\n",
            "Epoch 33/75\n",
            "1/1 [==============================] - 0s 3ms/step - loss: 0.5730 - accuracy: 0.9000\n",
            "Epoch 34/75\n",
            "1/1 [==============================] - 0s 3ms/step - loss: 0.7378 - accuracy: 0.3000\n",
            "Epoch 35/75\n",
            "1/1 [==============================] - 0s 3ms/step - loss: 0.7152 - accuracy: 0.6000\n",
            "Epoch 36/75\n",
            "1/1 [==============================] - 0s 2ms/step - loss: 0.6477 - accuracy: 0.6000\n",
            "Epoch 37/75\n",
            "1/1 [==============================] - 0s 1ms/step - loss: 0.7367 - accuracy: 0.6000\n",
            "Epoch 38/75\n",
            "1/1 [==============================] - 0s 973us/step - loss: 0.6504 - accuracy: 0.5000\n",
            "Epoch 39/75\n",
            "1/1 [==============================] - 0s 2ms/step - loss: 0.5514 - accuracy: 0.8000\n",
            "Epoch 40/75\n",
            "1/1 [==============================] - 0s 3ms/step - loss: 0.6212 - accuracy: 0.7000\n",
            "Epoch 41/75\n",
            "1/1 [==============================] - 0s 2ms/step - loss: 0.7136 - accuracy: 0.6000\n",
            "Epoch 42/75\n",
            "1/1 [==============================] - 0s 2ms/step - loss: 0.6397 - accuracy: 0.6000\n",
            "Epoch 43/75\n",
            "1/1 [==============================] - 0s 3ms/step - loss: 0.6383 - accuracy: 0.7000\n",
            "Epoch 44/75\n",
            "1/1 [==============================] - 0s 2ms/step - loss: 0.5340 - accuracy: 0.8000\n",
            "Epoch 45/75\n",
            "1/1 [==============================] - 0s 2ms/step - loss: 0.5873 - accuracy: 0.6000\n",
            "Epoch 46/75\n",
            "1/1 [==============================] - 0s 2ms/step - loss: 0.5679 - accuracy: 0.8000\n",
            "Epoch 47/75\n",
            "1/1 [==============================] - 0s 2ms/step - loss: 0.5416 - accuracy: 0.9000\n",
            "Epoch 48/75\n",
            "1/1 [==============================] - 0s 2ms/step - loss: 0.6435 - accuracy: 0.6000\n",
            "Epoch 49/75\n",
            "1/1 [==============================] - 0s 2ms/step - loss: 0.6005 - accuracy: 0.7000\n",
            "Epoch 50/75\n",
            "1/1 [==============================] - 0s 2ms/step - loss: 0.6272 - accuracy: 0.5000\n",
            "Epoch 51/75\n",
            "1/1 [==============================] - 0s 2ms/step - loss: 0.6961 - accuracy: 0.6000\n",
            "Epoch 52/75\n",
            "1/1 [==============================] - 0s 2ms/step - loss: 0.5811 - accuracy: 0.8000\n",
            "Epoch 53/75\n",
            "1/1 [==============================] - 0s 3ms/step - loss: 0.6024 - accuracy: 0.7000\n",
            "Epoch 54/75\n",
            "1/1 [==============================] - 0s 3ms/step - loss: 0.5549 - accuracy: 0.8000\n",
            "Epoch 55/75\n",
            "1/1 [==============================] - 0s 2ms/step - loss: 0.6249 - accuracy: 0.6000\n",
            "Epoch 56/75\n",
            "1/1 [==============================] - 0s 3ms/step - loss: 0.6378 - accuracy: 0.7000\n",
            "Epoch 57/75\n",
            "1/1 [==============================] - 0s 3ms/step - loss: 0.6099 - accuracy: 0.7000\n",
            "Epoch 58/75\n",
            "1/1 [==============================] - 0s 3ms/step - loss: 0.5333 - accuracy: 0.7000\n",
            "Epoch 59/75\n",
            "1/1 [==============================] - 0s 6ms/step - loss: 0.5204 - accuracy: 0.6000\n",
            "Epoch 60/75\n",
            "1/1 [==============================] - 0s 2ms/step - loss: 0.5091 - accuracy: 0.8000\n",
            "Epoch 61/75\n",
            "1/1 [==============================] - 0s 3ms/step - loss: 0.5163 - accuracy: 0.7000\n",
            "Epoch 62/75\n",
            "1/1 [==============================] - 0s 3ms/step - loss: 0.5408 - accuracy: 0.7000\n",
            "Epoch 63/75\n",
            "1/1 [==============================] - 0s 4ms/step - loss: 0.4912 - accuracy: 0.7000\n",
            "Epoch 64/75\n",
            "1/1 [==============================] - 0s 3ms/step - loss: 0.4198 - accuracy: 0.9000\n",
            "Epoch 65/75\n",
            "1/1 [==============================] - 0s 2ms/step - loss: 0.5778 - accuracy: 0.6000\n",
            "Epoch 66/75\n",
            "1/1 [==============================] - 0s 3ms/step - loss: 0.5029 - accuracy: 0.7000\n",
            "Epoch 67/75\n",
            "1/1 [==============================] - 0s 2ms/step - loss: 0.3436 - accuracy: 0.9000\n",
            "Epoch 68/75\n",
            "1/1 [==============================] - 0s 2ms/step - loss: 0.3672 - accuracy: 0.8000\n",
            "Epoch 69/75\n",
            "1/1 [==============================] - 0s 2ms/step - loss: 0.4944 - accuracy: 0.7000\n",
            "Epoch 70/75\n",
            "1/1 [==============================] - 0s 2ms/step - loss: 0.5046 - accuracy: 0.7000\n",
            "Epoch 71/75\n",
            "1/1 [==============================] - 0s 2ms/step - loss: 0.2430 - accuracy: 1.0000\n",
            "Epoch 72/75\n",
            "1/1 [==============================] - 0s 2ms/step - loss: 0.3096 - accuracy: 0.9000\n",
            "Epoch 73/75\n",
            "1/1 [==============================] - 0s 2ms/step - loss: 0.2384 - accuracy: 1.0000\n",
            "Epoch 74/75\n",
            "1/1 [==============================] - 0s 3ms/step - loss: 0.3842 - accuracy: 1.0000\n",
            "Epoch 75/75\n",
            "1/1 [==============================] - 0s 3ms/step - loss: 0.4928 - accuracy: 0.8000\n",
            "Best Accuracy for 0.5556 using {'batch_size': 10, 'epochs': 75, 'init_mode': 'lecun_uniform'}\n"
          ],
          "name": "stdout"
        }
      ]
    },
    {
      "cell_type": "code",
      "metadata": {
        "id": "3XUT2VZFL_MB",
        "colab_type": "code",
        "colab": {
          "base_uri": "https://localhost:8080/",
          "height": 1000
        },
        "outputId": "5e89511c-520c-4332-e306-3de416dc9b5d"
      },
      "source": [
        "#train and test the model using the best parameters\n",
        "learning_rate = 0.001\n",
        "momentum = 0.8\n",
        "\n",
        "sgd = Adam(lr=learning_rate)\n",
        "\n",
        "def create_model(init_mode='lecun_uniform'):\n",
        "    vector_length=25\n",
        "    \"\"\"5 hidden dense layers from 256 units to 64, not the best model.\"\"\"\n",
        "    model = Sequential()\n",
        "    model.add(Dense(256, kernel_initializer=init_mode,input_shape=(vector_length,)))\n",
        "    model.add(Dense(256,kernel_initializer=init_mode, activation=\"relu\"))\n",
        "    model.add(Dropout(0.3))\n",
        "    model.add(Dense(128, kernel_initializer=init_mode,activation=\"relu\"))\n",
        "    model.add(Dropout(0.3))\n",
        "    model.add(Dense(128,kernel_initializer=init_mode, activation=\"relu\"))\n",
        "    model.add(Dropout(0.3))\n",
        "    model.add(Dense(64, kernel_initializer=init_mode,activation=\"relu\"))\n",
        "    model.add(Dropout(0.3))\n",
        "    # one output neuron with sigmoid activation function, 0 means female, 1 means male\n",
        "    model.add(Dense(1, kernel_initializer=init_mode,activation=\"sigmoid\"))\n",
        "    # using binary crossentropy as it's male/female classification (binary)\n",
        "    model.compile(loss=\"binary_crossentropy\", metrics=[\"accuracy\"], optimizer=sgd)\n",
        "    # print summary of the model\n",
        "   \n",
        "    return model\n",
        "\n",
        "\n",
        "model=create_model()\n",
        "\n",
        "model.fit(X_train,Y_train, batch_size=10, epochs=75, verbose=1)\n",
        "\n",
        "loss, accuracy = model.evaluate(X_test, Y_test, verbose=1)\n",
        "print(\"Loss:\", loss)\n",
        "print(\"Accuracy: \",accuracy*100)"
      ],
      "execution_count": null,
      "outputs": [
        {
          "output_type": "stream",
          "text": [
            "Epoch 1/75\n",
            "1/1 [==============================] - 0s 2ms/step - loss: 0.8071 - accuracy: 0.6000\n",
            "Epoch 2/75\n",
            "1/1 [==============================] - 0s 4ms/step - loss: 0.8136 - accuracy: 0.5000\n",
            "Epoch 3/75\n",
            "1/1 [==============================] - 0s 2ms/step - loss: 0.7592 - accuracy: 0.6000\n",
            "Epoch 4/75\n",
            "1/1 [==============================] - 0s 2ms/step - loss: 0.7385 - accuracy: 0.5000\n",
            "Epoch 5/75\n",
            "1/1 [==============================] - 0s 2ms/step - loss: 0.6717 - accuracy: 0.6000\n",
            "Epoch 6/75\n",
            "1/1 [==============================] - 0s 2ms/step - loss: 0.6191 - accuracy: 0.6000\n",
            "Epoch 7/75\n",
            "1/1 [==============================] - 0s 2ms/step - loss: 0.6752 - accuracy: 0.5000\n",
            "Epoch 8/75\n",
            "1/1 [==============================] - 0s 2ms/step - loss: 0.7408 - accuracy: 0.6000\n",
            "Epoch 9/75\n",
            "1/1 [==============================] - 0s 1ms/step - loss: 0.6982 - accuracy: 0.6000\n",
            "Epoch 10/75\n",
            "1/1 [==============================] - 0s 1ms/step - loss: 0.7155 - accuracy: 0.5000\n",
            "Epoch 11/75\n",
            "1/1 [==============================] - 0s 2ms/step - loss: 0.6025 - accuracy: 0.6000\n",
            "Epoch 12/75\n",
            "1/1 [==============================] - 0s 1ms/step - loss: 0.7142 - accuracy: 0.5000\n",
            "Epoch 13/75\n",
            "1/1 [==============================] - 0s 1ms/step - loss: 0.7005 - accuracy: 0.6000\n",
            "Epoch 14/75\n",
            "1/1 [==============================] - 0s 1ms/step - loss: 0.7637 - accuracy: 0.4000\n",
            "Epoch 15/75\n",
            "1/1 [==============================] - 0s 1ms/step - loss: 0.8749 - accuracy: 0.3000\n",
            "Epoch 16/75\n",
            "1/1 [==============================] - 0s 4ms/step - loss: 0.7498 - accuracy: 0.3000\n",
            "Epoch 17/75\n",
            "1/1 [==============================] - 0s 1ms/step - loss: 0.7220 - accuracy: 0.6000\n",
            "Epoch 18/75\n",
            "1/1 [==============================] - 0s 1ms/step - loss: 0.7801 - accuracy: 0.5000\n",
            "Epoch 19/75\n",
            "1/1 [==============================] - 0s 3ms/step - loss: 0.5562 - accuracy: 0.8000\n",
            "Epoch 20/75\n",
            "1/1 [==============================] - 0s 1ms/step - loss: 0.6178 - accuracy: 0.5000\n",
            "Epoch 21/75\n",
            "1/1 [==============================] - 0s 2ms/step - loss: 0.5678 - accuracy: 0.8000\n",
            "Epoch 22/75\n",
            "1/1 [==============================] - 0s 2ms/step - loss: 0.6903 - accuracy: 0.5000\n",
            "Epoch 23/75\n",
            "1/1 [==============================] - 0s 1ms/step - loss: 0.7624 - accuracy: 0.4000\n",
            "Epoch 24/75\n",
            "1/1 [==============================] - 0s 3ms/step - loss: 0.7717 - accuracy: 0.5000\n",
            "Epoch 25/75\n",
            "1/1 [==============================] - 0s 1ms/step - loss: 0.7609 - accuracy: 0.6000\n",
            "Epoch 26/75\n",
            "1/1 [==============================] - 0s 3ms/step - loss: 0.8098 - accuracy: 0.3000\n",
            "Epoch 27/75\n",
            "1/1 [==============================] - 0s 3ms/step - loss: 0.6974 - accuracy: 0.5000\n",
            "Epoch 28/75\n",
            "1/1 [==============================] - 0s 3ms/step - loss: 0.7588 - accuracy: 0.4000\n",
            "Epoch 29/75\n",
            "1/1 [==============================] - 0s 2ms/step - loss: 0.7791 - accuracy: 0.4000\n",
            "Epoch 30/75\n",
            "1/1 [==============================] - 0s 1ms/step - loss: 0.8929 - accuracy: 0.3000\n",
            "Epoch 31/75\n",
            "1/1 [==============================] - 0s 2ms/step - loss: 0.5926 - accuracy: 0.7000\n",
            "Epoch 32/75\n",
            "1/1 [==============================] - 0s 2ms/step - loss: 0.6059 - accuracy: 0.7000\n",
            "Epoch 33/75\n",
            "1/1 [==============================] - 0s 2ms/step - loss: 0.6450 - accuracy: 0.7000\n",
            "Epoch 34/75\n",
            "1/1 [==============================] - 0s 3ms/step - loss: 0.7556 - accuracy: 0.4000\n",
            "Epoch 35/75\n",
            "1/1 [==============================] - 0s 2ms/step - loss: 0.6415 - accuracy: 0.6000\n",
            "Epoch 36/75\n",
            "1/1 [==============================] - 0s 3ms/step - loss: 0.7395 - accuracy: 0.6000\n",
            "Epoch 37/75\n",
            "1/1 [==============================] - 0s 1ms/step - loss: 0.7094 - accuracy: 0.5000\n",
            "Epoch 38/75\n",
            "1/1 [==============================] - 0s 3ms/step - loss: 0.6916 - accuracy: 0.5000\n",
            "Epoch 39/75\n",
            "1/1 [==============================] - 0s 1ms/step - loss: 0.6972 - accuracy: 0.7000\n",
            "Epoch 40/75\n",
            "1/1 [==============================] - 0s 1ms/step - loss: 0.6490 - accuracy: 0.7000\n",
            "Epoch 41/75\n",
            "1/1 [==============================] - 0s 2ms/step - loss: 0.5212 - accuracy: 0.8000\n",
            "Epoch 42/75\n",
            "1/1 [==============================] - 0s 2ms/step - loss: 0.6361 - accuracy: 0.8000\n",
            "Epoch 43/75\n",
            "1/1 [==============================] - 0s 2ms/step - loss: 0.5496 - accuracy: 0.8000\n",
            "Epoch 44/75\n",
            "1/1 [==============================] - 0s 2ms/step - loss: 0.7260 - accuracy: 0.4000\n",
            "Epoch 45/75\n",
            "1/1 [==============================] - 0s 2ms/step - loss: 0.7583 - accuracy: 0.5000\n",
            "Epoch 46/75\n",
            "1/1 [==============================] - 0s 2ms/step - loss: 0.7164 - accuracy: 0.5000\n",
            "Epoch 47/75\n",
            "1/1 [==============================] - 0s 3ms/step - loss: 0.6939 - accuracy: 0.5000\n",
            "Epoch 48/75\n",
            "1/1 [==============================] - 0s 3ms/step - loss: 0.4717 - accuracy: 0.8000\n",
            "Epoch 49/75\n",
            "1/1 [==============================] - 0s 2ms/step - loss: 0.6108 - accuracy: 0.8000\n",
            "Epoch 50/75\n",
            "1/1 [==============================] - 0s 2ms/step - loss: 0.7542 - accuracy: 0.4000\n",
            "Epoch 51/75\n",
            "1/1 [==============================] - 0s 2ms/step - loss: 0.4743 - accuracy: 0.7000\n",
            "Epoch 52/75\n",
            "1/1 [==============================] - 0s 2ms/step - loss: 0.5787 - accuracy: 0.9000\n",
            "Epoch 53/75\n",
            "1/1 [==============================] - 0s 2ms/step - loss: 0.7367 - accuracy: 0.5000\n",
            "Epoch 54/75\n",
            "1/1 [==============================] - 0s 2ms/step - loss: 0.7901 - accuracy: 0.6000\n",
            "Epoch 55/75\n",
            "1/1 [==============================] - 0s 5ms/step - loss: 0.6127 - accuracy: 0.6000\n",
            "Epoch 56/75\n",
            "1/1 [==============================] - 0s 2ms/step - loss: 0.7030 - accuracy: 0.6000\n",
            "Epoch 57/75\n",
            "1/1 [==============================] - 0s 2ms/step - loss: 0.6664 - accuracy: 0.6000\n",
            "Epoch 58/75\n",
            "1/1 [==============================] - 0s 2ms/step - loss: 0.5126 - accuracy: 0.9000\n",
            "Epoch 59/75\n",
            "1/1 [==============================] - 0s 2ms/step - loss: 0.4672 - accuracy: 0.9000\n",
            "Epoch 60/75\n",
            "1/1 [==============================] - 0s 2ms/step - loss: 0.4679 - accuracy: 0.9000\n",
            "Epoch 61/75\n",
            "1/1 [==============================] - 0s 2ms/step - loss: 0.4958 - accuracy: 0.8000\n",
            "Epoch 62/75\n",
            "1/1 [==============================] - 0s 2ms/step - loss: 0.4982 - accuracy: 0.8000\n",
            "Epoch 63/75\n",
            "1/1 [==============================] - 0s 1ms/step - loss: 0.4987 - accuracy: 0.7000\n",
            "Epoch 64/75\n",
            "1/1 [==============================] - 0s 2ms/step - loss: 0.5205 - accuracy: 0.7000\n",
            "Epoch 65/75\n",
            "1/1 [==============================] - 0s 3ms/step - loss: 0.4566 - accuracy: 0.8000\n",
            "Epoch 66/75\n",
            "1/1 [==============================] - 0s 2ms/step - loss: 0.4929 - accuracy: 0.8000\n",
            "Epoch 67/75\n",
            "1/1 [==============================] - 0s 2ms/step - loss: 0.5079 - accuracy: 0.9000\n",
            "Epoch 68/75\n",
            "1/1 [==============================] - 0s 2ms/step - loss: 0.4447 - accuracy: 0.9000\n",
            "Epoch 69/75\n",
            "1/1 [==============================] - 0s 2ms/step - loss: 0.3909 - accuracy: 0.9000\n",
            "Epoch 70/75\n",
            "1/1 [==============================] - 0s 2ms/step - loss: 0.4197 - accuracy: 0.9000\n",
            "Epoch 71/75\n",
            "1/1 [==============================] - 0s 1ms/step - loss: 0.2701 - accuracy: 1.0000\n",
            "Epoch 72/75\n",
            "1/1 [==============================] - 0s 2ms/step - loss: 0.2339 - accuracy: 1.0000\n",
            "Epoch 73/75\n",
            "1/1 [==============================] - 0s 4ms/step - loss: 0.3684 - accuracy: 0.9000\n",
            "Epoch 74/75\n",
            "1/1 [==============================] - 0s 3ms/step - loss: 0.2644 - accuracy: 1.0000\n",
            "Epoch 75/75\n",
            "1/1 [==============================] - 0s 2ms/step - loss: 0.3990 - accuracy: 0.9000\n",
            "36/36 [==============================] - 0s 1ms/step - loss: 0.7920 - accuracy: 0.5979\n",
            "Loss: 0.7920294404029846\n",
            "Accuracy:  59.788358211517334\n"
          ],
          "name": "stdout"
        }
      ]
    }
  ]
}