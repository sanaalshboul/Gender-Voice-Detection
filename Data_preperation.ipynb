{
  "nbformat": 4,
  "nbformat_minor": 0,
  "metadata": {
    "colab": {
      "name": "Data_preperation.ipynb",
      "provenance": [],
      "authorship_tag": "ABX9TyOj2m+5iFjuSEvpHkv7Y4n2",
      "include_colab_link": true
    },
    "kernelspec": {
      "name": "python3",
      "display_name": "Python 3"
    }
  },
  "cells": [
    {
      "cell_type": "markdown",
      "metadata": {
        "id": "view-in-github",
        "colab_type": "text"
      },
      "source": [
        "<a href=\"https://colab.research.google.com/github/sanaalshboul/Gender-Voice-Detection/blob/master/Data_preperation.ipynb\" target=\"_parent\"><img src=\"https://colab.research.google.com/assets/colab-badge.svg\" alt=\"Open In Colab\"/></a>"
      ]
    },
    {
      "cell_type": "code",
      "metadata": {
        "id": "Ft-jQ83qpvJi",
        "colab_type": "code",
        "colab": {
          "base_uri": "https://localhost:8080/",
          "height": 125
        },
        "outputId": "ceb06516-1db2-4565-e0c0-ca8ea17226f1"
      },
      "source": [
        "#import Google drive\n",
        "from google.colab import drive\n",
        "drive.mount('/content/drive/')"
      ],
      "execution_count": null,
      "outputs": [
        {
          "output_type": "stream",
          "text": [
            "Go to this URL in a browser: https://accounts.google.com/o/oauth2/auth?client_id=947318989803-6bn6qk8qdgf4n4g3pfee6491hc0brc4i.apps.googleusercontent.com&redirect_uri=urn%3aietf%3awg%3aoauth%3a2.0%3aoob&scope=email%20https%3a%2f%2fwww.googleapis.com%2fauth%2fdocs.test%20https%3a%2f%2fwww.googleapis.com%2fauth%2fdrive%20https%3a%2f%2fwww.googleapis.com%2fauth%2fdrive.photos.readonly%20https%3a%2f%2fwww.googleapis.com%2fauth%2fpeopleapi.readonly&response_type=code\n",
            "\n",
            "Enter your authorization code:\n",
            "··········\n",
            "Mounted at /content/drive/\n"
          ],
          "name": "stdout"
        }
      ]
    },
    {
      "cell_type": "code",
      "metadata": {
        "id": "ukn4GQn8p1o3",
        "colab_type": "code",
        "colab": {
          "base_uri": "https://localhost:8080/",
          "height": 87
        },
        "outputId": "f111a9bf-b6c9-4a93-e059-97760a0c8d7d"
      },
      "source": [
        "#change the current working directory to the dataset directory\n",
        "#for dataset downloading: https://www.kaggle.com/liftofff9/voice-gender\n",
        "import os\n",
        "os.chdir('/content/drive/My Drive/pygender')\n",
        "!ls"
      ],
      "execution_count": null,
      "outputs": [
        {
          "output_type": "stream",
          "text": [
            "data\t\t\t       magnitude_spec.png\ttest_data\n",
            "Data_preperation.ipynb\t       mfcc_features_test.csv\ttrain_data\n",
            "ELA_Voice_visualization.ipynb  mfcc_features_train.csv\tTrain_Test.ipynb\n",
            "logs\t\t\t       spectrum.png\n"
          ],
          "name": "stdout"
        }
      ]
    },
    {
      "cell_type": "code",
      "metadata": {
        "id": "JdU8Hc3ep4PP",
        "colab_type": "code",
        "colab": {}
      },
      "source": [
        "#import the required libraries\n",
        "import librosa\n",
        "import pickle\n",
        "import pandas as pd\n",
        "import numpy as np\n",
        "import librosa.display\n",
        "import matplotlib.pyplot as plt\n",
        "\n",
        "\n",
        "from scipy.io.wavfile import read\n",
        "from sklearn import preprocessing"
      ],
      "execution_count": null,
      "outputs": []
    },
    {
      "cell_type": "code",
      "metadata": {
        "id": "LPA5NursqW9x",
        "colab_type": "code",
        "colab": {}
      },
      "source": [
        "#a method for extracting a feature voice. \n",
        "#example: feature= feature_extraction(\"path/to/audiofie\", \"tonnetz\")\n",
        "#params\n",
        "#feature_name: [\"mfcc\", \"mel\", \"chroma\", \"tonnetz\", \"contrast\"]\n",
        "#file_name: path to the audio file\n",
        "def feature_extraction(file_name, featuer_name):\n",
        "  \n",
        "\n",
        "  audio, sample_rate = librosa.core.load(file_name)\n",
        "  EnrgSpectra = np.abs(librosa.stft(audio))\n",
        "  result=np.asarray(())\n",
        "\n",
        "  if featuer_name==\"mfcc\":\n",
        "    features=np.mean(librosa.feature.mfcc(y=audio, sr=sample_rate, n_mfcc=25).T, axis=0)\n",
        "    #rescale the data\n",
        "    features=preprocessing.scale(features)\n",
        "    #stack the feature arrays in a horizantal numpy array\n",
        "    features=np.hstack((result,features))\n",
        "\n",
        "  if featuer_name==\"chroma\":\n",
        "    chroma=np.mean(librosa.feature.chroma_stft(S=EnrgSpectra, sr=sample_rate).T, axis=0)\n",
        "    chroma=preprocessing.scale(chroma)\n",
        "    features=np.hstack((result,chroma))\n",
        "  \n",
        "  if featuer_name==\"mel\":\n",
        "    mel = np.mean(librosa.feature.melspectrogram(audio, sr=sample_rate).T, axis=0)\n",
        "    mel=preprocessing.scale(mel)\n",
        "    features=np.hstack((result,mel))\n",
        "\n",
        "  if featuer_name==\"tonnetz\":\n",
        "    tonnetz=np.mean(librosa.feature.tonnetz(y=audio,sr=sample_rate).T, axis=0)\n",
        "    tonnetz=preprocessing.scale(tonnetz)\n",
        "    features=np.hstack((result,tonnetz))\n",
        "  if featuer_name==\"contrast\":\n",
        "    contrast=np.mean(librosa.feature.spectral_contrast(y=audio,sr=sample_rate).T, axis=0)\n",
        "    contrast=preprocessing.scale(contrast)\n",
        "    features=np.hstack((result,contrast))\n",
        "    \n",
        "  return features"
      ],
      "execution_count": null,
      "outputs": []
    },
    {
      "cell_type": "code",
      "metadata": {
        "id": "f9tvB7oGqXyw",
        "colab_type": "code",
        "colab": {}
      },
      "source": [
        "#a method for extracting the feature voice for every audio file in the training or testing sets and save every feature's audio file in a speparate numpy file. \n",
        "#Then save the numpy files' paths in a csv file\n",
        "#example: data_feature_preperation( \"train\", \"chroma\")\n",
        "#params:\n",
        "#train_or_test: [\"train\", \"test\"], feature_name: [\"mfcc\", \"mel\", \"chroma\", \"tonnetz\", \"contrast\"]\n",
        "def data_feature_preperation(train_or_test, feature_name ):\n",
        "\n",
        " \n",
        "  if train_or_test==\"train\":\n",
        "    #path of the female training set\n",
        "    train_female_path='/content/drive/My Drive/pygender/train_data/female/'\n",
        "    #path of the male training set\n",
        "    train_male_path='/content/drive/My Drive/pygender/train_data/male/'\n",
        "    #path to save the feature file path of every training audio file to csv file\n",
        "    csvFile='/content/drive/My Drive/pygender/mfcc_features_train.csv'\n",
        "    #directory path to save the training features' files \n",
        "    dirname=\"data/mfcc_train\"\n",
        "    \n",
        "  elif train_or_test==\"test\":\n",
        "    #path of the female testing set\n",
        "    train_female_path='/content/drive/My Drive/pygender/test_data/female_clips/'\n",
        "    #path of the male testing set\n",
        "    train_male_path='/content/drive/My Drive/pygender/test_data/male_clips/'\n",
        "    #path to save the feature file path of every testing audio file to csv file\n",
        "    csvFile='/content/drive/My Drive/pygender/mfcc_features_test.csv'\n",
        "    #directory path to save the testing features' files \n",
        "    dirname=\"data/mfcc_test\"\n",
        "  \n",
        "  #extract and save the features of female files\n",
        "  female_files=[os.path.join(train_female_path,f) for f in os.listdir(train_female_path) if f.endswith('.wav')]\n",
        "\n",
        "\n",
        "  if not os.path.isdir(dirname):\n",
        "      os.makedirs(dirname)\n",
        "\n",
        "  df=pd.DataFrame()\n",
        "  feature_file=list()\n",
        "  label=list()\n",
        "  \n",
        "  for f in female_files:\n",
        "    splited = os.path.split(f)\n",
        "    \n",
        "    audio_filename=splited[-1].split(\".\")[0]\n",
        "    \n",
        "    mfcc=feature_extraction(f, feature_name)\n",
        "\n",
        "    dest_path=f\"{dirname}/{audio_filename}\"\n",
        "    \n",
        "    np.save(dest_path, mfcc)\n",
        "\n",
        "    feature_file.append(dest_path+\".npy\")\n",
        "    label.append(\"female\")\n",
        "\n",
        "  #extract and save the features of male files\n",
        "  male_files=[os.path.join(train_male_path,f) for f in os.listdir(train_male_path) if f.endswith('.wav')]\n",
        "\n",
        "  for f in male_files: \n",
        "    mfcc=feature_extraction(f, feature_name)\n",
        "\n",
        "    splited = os.path.split(f)\n",
        "    \n",
        "    audio_filename=splited[-1].split(\".\")[0]\n",
        "\n",
        "    dest_path=f\"{dirname}/{audio_filename}\"\n",
        "\n",
        "    np.save(dest_path, mfcc)\n",
        "\n",
        "    feature_file.append(dest_path+\".npy\")\n",
        "    label.append(\"male\")\n",
        "\n",
        "  df['file_feature_name']=feature_file\n",
        "  df['gender']=label\n",
        "\n",
        "  df.to_csv(csvFile)\n"
      ],
      "execution_count": null,
      "outputs": []
    },
    {
      "cell_type": "code",
      "metadata": {
        "id": "5hGtKHzqqfTB",
        "colab_type": "code",
        "colab": {}
      },
      "source": [
        "#method to save features of every audio file in one numpy array\n",
        "#axample: save_data(\"test\") \n",
        "#params:\n",
        "#train_or_test: [\"train\", 'test]\n",
        "def save_data(train_or_test):\n",
        "  if train_or_test==\"train\":\n",
        "    csvFile=\"/content/drive/My Drive/pygender/mfcc_features_train.csv\"\n",
        "    npFeatureFile=\"data/all_mfcc_train\"\n",
        "    npLabelFile=\"data/all_label_train\"\n",
        "  elif train_or_test==\"test\":\n",
        "    csvFile=\"/content/drive/My Drive/pygender/mfcc_features_test.csv\"\n",
        "    npFeatureFile=\"data/all_mfcc_test\"\n",
        "    npLabelFile=\"data/all_label_test\"\n",
        "  df=pd.read_csv(csvFile)\n",
        "\n",
        "  Y_train= np.zeros((len(df),1))\n",
        "  X_train=np.zeros((len(df),25))\n",
        "\n",
        "  for i, (file_name, gender) in enumerate(zip(df['file_feature_name'], df['gender'])):\n",
        "    mfccFeature=np.load(file_name)  \n",
        "    \n",
        "    X_train[i]=mfccFeature\n",
        "\n",
        "    if gender== \"female\":\n",
        "      Y_train[i]=1\n",
        "    else:\n",
        "      Y_train[i]=0\n",
        "\n",
        "  np.save(npFeatureFile, X_train)\n",
        "  np.save(npLabelFile, Y_train)\n",
        "\n",
        "  return X_train, Y_train"
      ],
      "execution_count": null,
      "outputs": []
    },
    {
      "cell_type": "code",
      "metadata": {
        "id": "I-U36xEPqjLO",
        "colab_type": "code",
        "colab": {}
      },
      "source": [
        "data_feature_preperation(train_or_test=\"train\", feature_name=\"mfcc\")\n",
        "save_data(train_or_test=\"train\")"
      ],
      "execution_count": null,
      "outputs": []
    },
    {
      "cell_type": "code",
      "metadata": {
        "id": "-mwWjLsmqvW5",
        "colab_type": "code",
        "colab": {}
      },
      "source": [
        "data_feature_preperation(train_or_test=\"test\", feature_name=\"mfcc\")\n",
        "save_data(train_or_test=\"test\")"
      ],
      "execution_count": null,
      "outputs": []
    }
  ]
}